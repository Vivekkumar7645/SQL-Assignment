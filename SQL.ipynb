{
  "nbformat": 4,
  "nbformat_minor": 0,
  "metadata": {
    "colab": {
      "provenance": []
    },
    "kernelspec": {
      "name": "python3",
      "display_name": "Python 3"
    },
    "language_info": {
      "name": "python"
    }
  },
  "cells": [
    {
      "cell_type": "markdown",
      "source": [
        "##Q 1.  Create a table called employees with the following structure:\n",
        "* emp_id (integer, should not be NULL and should be a primary key)\n",
        "* emp_name (text, should not be NULL)\n",
        "* age (integer, should have a check constraint to ensure the age is at least 18)\n",
        "* email (text, should be unique for each employee)\n",
        "* salary (decimal, with a default value of 30,000).\n",
        "\n",
        "Write the SQL query to create the above table with all constraints.\n",
        "\n",
        "**Ans** - SQL query to create the employees table with all the required constraints:"
      ],
      "metadata": {
        "id": "4FhNyI1AzMxM"
      }
    },
    {
      "cell_type": "code",
      "source": [
        "CREATE TABLE employees (\n",
        "    emp_id INTEGER PRIMARY KEY NOT NULL,\n",
        "    emp_name TEXT NOT NULL,\n",
        "    age INTEGER CHECK (age >= 18),\n",
        "    email TEXT UNIQUE,\n",
        "    salary DECIMAL DEFAULT 30000\n",
        ");"
      ],
      "metadata": {
        "id": "VBdDSBmPFAy5"
      },
      "execution_count": null,
      "outputs": []
    },
    {
      "cell_type": "markdown",
      "source": [
        "**Explanation**\n",
        "* emp_id is the primary key and cannot be NULL.\n",
        "* emp_name cannot be NULL.\n",
        "* age has a check constraint to ensure it is at least 18.\n",
        "* email is unique for each employee.\n",
        "* salary has a default value of 30,000."
      ],
      "metadata": {
        "id": "BijuiTEiFEux"
      }
    },
    {
      "cell_type": "markdown",
      "source": [
        "##Q 2. Explain the purpose of constraints and how they help maintain data integrity in a database. Provide examples of common types of constraints.\n",
        "**Ans** - **Purpose of Constraints in a Database**\n",
        "\n",
        "Constraints are rules enforced on database columns to maintain data integrity and accuracy. They prevent invalid data from being entered into the database and ensure consistency across records.\n",
        "\n",
        "**Constraints Maintain Data Integrity**\n",
        "\n",
        "Constraints help maintain data integrity in the following ways:\n",
        "1. Preventing Invalid Data Entry - Ensures only appropriate values are stored.\n",
        "2. Enforcing Uniqueness - Prevents duplicate records where uniqueness is required.\n",
        "3. Ensuring Relationships Between Tables - Helps maintain referential integrity.\n",
        "4. Providing Default Values - Ensures fields have a meaningful default if no value is provided.\n",
        "5. Restricting Actions - Limits what can be done to protect data from accidental changes or deletions.\n",
        "\n",
        "**Common Types of Constraints with Examples**\n",
        "\n",
        "**1. NOT NULL Constraint**\n",
        "\n",
        "Ensures a column cannot store NULL values.\n",
        "  * Example: Every employee must have a name."
      ],
      "metadata": {
        "id": "-KGdIggkP8Tw"
      }
    },
    {
      "cell_type": "code",
      "source": [
        "CREATE TABLE employees (\n",
        "    emp_id INTEGER PRIMARY KEY,\n",
        "    emp_name TEXT NOT NULL\n",
        ");"
      ],
      "metadata": {
        "id": "40xX0Rb5GoLO"
      },
      "execution_count": null,
      "outputs": []
    },
    {
      "cell_type": "markdown",
      "source": [
        "**2. UNIQUE Constraint**\n",
        "\n",
        "Ensures that all values in a column are unique across records.\n",
        "* Example: No two employees can have the same email."
      ],
      "metadata": {
        "id": "sR6scMeHGrfy"
      }
    },
    {
      "cell_type": "code",
      "source": [
        "CREATE TABLE employees (\n",
        "    emp_id INTEGER PRIMARY KEY,\n",
        "    email TEXT UNIQUE\n",
        ");"
      ],
      "metadata": {
        "id": "-DXVDZKYG2BK"
      },
      "execution_count": null,
      "outputs": []
    },
    {
      "cell_type": "markdown",
      "source": [
        "**3. PRIMARY KEY Constraint**\n",
        "\n",
        "A combination of NOT NULL and UNIQUE. Ensures each row is uniquely identifiable.\n",
        "  * Example: emp_id should uniquely identify each employee."
      ],
      "metadata": {
        "id": "WDTMfSOkG5zg"
      }
    },
    {
      "cell_type": "code",
      "source": [
        "CREATE TABLE employees (\n",
        "    emp_id INTEGER PRIMARY KEY\n",
        ");"
      ],
      "metadata": {
        "id": "ClTZA4hOHFVh"
      },
      "execution_count": null,
      "outputs": []
    },
    {
      "cell_type": "markdown",
      "source": [
        "**4. FOREIGN KEY Constraint**\n",
        "\n",
        "Ensures relationships between tables and maintains referential integrity.\n",
        "  * Example: department_id in employees must exist in departments table."
      ],
      "metadata": {
        "id": "GCDRP7zuHIzA"
      }
    },
    {
      "cell_type": "code",
      "source": [
        "CREATE TABLE departments (\n",
        "    department_id INTEGER PRIMARY KEY,\n",
        "    department_name TEXT NOT NULL\n",
        ");\n",
        "\n",
        "CREATE TABLE employees (\n",
        "    emp_id INTEGER PRIMARY KEY,\n",
        "    department_id INTEGER,\n",
        "    FOREIGN KEY (department_id) REFERENCES departments(department_id)\n",
        ");"
      ],
      "metadata": {
        "id": "Jh2ou5oJHWBm"
      },
      "execution_count": null,
      "outputs": []
    },
    {
      "cell_type": "markdown",
      "source": [
        "**5. CHECK Constraint**\n",
        "\n",
        "Enforces a condition that values must meet.\n",
        "  * Example: Employees must be at least 18 years old."
      ],
      "metadata": {
        "id": "hrpyh-t1HZ_4"
      }
    },
    {
      "cell_type": "code",
      "source": [
        "CREATE TABLE employees (\n",
        "    emp_id INTEGER PRIMARY KEY,\n",
        "    age INTEGER CHECK (age >= 18)\n",
        ");"
      ],
      "metadata": {
        "id": "LdrGAdcmHjMw"
      },
      "execution_count": null,
      "outputs": []
    },
    {
      "cell_type": "markdown",
      "source": [
        "**6. DEFAULT Constraint**\n",
        "Assigns a default value if no value is provided.\n",
        "  * Example: If no salary is provided, it defaults to 30,000."
      ],
      "metadata": {
        "id": "vd1AQKUgHnAV"
      }
    },
    {
      "cell_type": "code",
      "source": [
        "CREATE TABLE employees (\n",
        "    emp_id INTEGER PRIMARY KEY,\n",
        "    salary DECIMAL DEFAULT 30000\n",
        ");"
      ],
      "metadata": {
        "id": "d_ayREbFHtSS"
      },
      "execution_count": null,
      "outputs": []
    },
    {
      "cell_type": "markdown",
      "source": [
        "**Conclusion**\n",
        "\n",
        "Constraints ensure that only valid, consistent, and reliable data is stored in a database. By using them properly, you can avoid data corruption, duplicate records, and integrity issues in relational databases."
      ],
      "metadata": {
        "id": "IVHX_2Y4HwoT"
      }
    },
    {
      "cell_type": "markdown",
      "source": [
        "##Q 3. Why would you apply the NOT NULL constraint to a column? Can a primary key contain NULL values? Justify your answer.\n",
        "**Ans** -The NOT NULL constraint ensures that a column cannot contain NULL values. It is used when a column must always have valid data and should not be left empty.\n",
        "\n",
        "**Reasons to Use NOT NULL:**\n",
        "1. Ensures Required Data is Present - Prevents missing or incomplete records.\n",
        "2. Maintains Data Integrity - Critical fields like employee names, emails, or order IDs should always have values.\n",
        "3. Avoids Unexpected Errors - Prevents NULL-related issues in calculations and queries.\n",
        "4. Improves Query Performance - Searching for NULL values can be inefficient in some cases.\n",
        "\n",
        "* Example: Ensuring an Employee Name is Always Provided"
      ],
      "metadata": {
        "id": "XMWxdbY7QAYt"
      }
    },
    {
      "cell_type": "code",
      "source": [
        "CREATE TABLE employees (\n",
        "    emp_id INTEGER PRIMARY KEY,\n",
        "    emp_name TEXT NOT NULL\n",
        ");"
      ],
      "metadata": {
        "id": "Id9y4vYAId_5"
      },
      "execution_count": null,
      "outputs": []
    },
    {
      "cell_type": "markdown",
      "source": [
        "In this case, an employee record cannot be created without a name.\n",
        "\n",
        "a primary key cannot contain NULL values.\n",
        "\n",
        "**Justification:**\n",
        "1. Primary Keys Uniquely Identify Records\n",
        "  * Each row in a table must have a unique identifier.\n",
        "  * If a primary key contained NULL, it would mean some rows do not have an identifier, violating the concept of uniqueness.\n",
        "2. Primary Key = UNIQUE + NOT NULL\n",
        "  * A primary key automatically enforces both:\n",
        "    * Uniqueness.\n",
        "    * Not Null.\n",
        "3. Referential Integrity in Foreign Keys\n",
        "  * If a primary key were NULL, it could create issues in foreign key references, breaking relationships between tables.\n",
        "\n",
        "* Example: Primary Key Cannot Be NULL"
      ],
      "metadata": {
        "id": "qH7bkC1TIhao"
      }
    },
    {
      "cell_type": "code",
      "source": [
        "CREATE TABLE employees (\n",
        "    emp_id INTEGER PRIMARY KEY, -- Implicitly NOT NULL\n",
        "    emp_name TEXT NOT NULL\n",
        ");"
      ],
      "metadata": {
        "id": "e_5j4GOLI-eQ"
      },
      "execution_count": null,
      "outputs": []
    },
    {
      "cell_type": "markdown",
      "source": [
        "Trying to insert a NULL value in emp_id would result in an error:"
      ],
      "metadata": {
        "id": "QLMtF77NJBeD"
      }
    },
    {
      "cell_type": "code",
      "source": [
        "INSERT INTO employees (emp_id, emp_name) VALUES (NULL, 'John Doe');\n",
        "-- ERROR: PRIMARY KEY constraint failed (NULL value not allowed)"
      ],
      "metadata": {
        "id": "-gybqr1RJH-r"
      },
      "execution_count": null,
      "outputs": []
    },
    {
      "cell_type": "markdown",
      "source": [
        "##Q 4. Explain the steps and SQL commands used to add or remove constraints on an existing table. Provide an example for both adding and removing a constraint.\n",
        "\n",
        "**Ans** - **Modifying Constraints on an Existing Table**\n",
        "\n",
        "In SQL, we can add or remove constraints from an existing table using the ALTER TABLE statement.\n",
        "\n",
        "**1. Adding a Constraint**\n",
        "\n",
        "To add a constraint, use:"
      ],
      "metadata": {
        "id": "FZ2dSAAVQA7F"
      }
    },
    {
      "cell_type": "code",
      "source": [
        "ALTER TABLE table_name ADD CONSTRAINT constraint_name constraint_type (column_name);"
      ],
      "metadata": {
        "id": "yid1-OtwJ1zB"
      },
      "execution_count": null,
      "outputs": []
    },
    {
      "cell_type": "markdown",
      "source": [
        "**Example: Adding a CHECK Constraint**\n",
        "\n",
        "Suppose we have an employees table, and we want to ensure that the salary is at least 30,000."
      ],
      "metadata": {
        "id": "aIZtdAtkJ6kY"
      }
    },
    {
      "cell_type": "code",
      "source": [
        "ALTER TABLE employees\n",
        "ADD CONSTRAINT check_salary CHECK (salary >= 30000);"
      ],
      "metadata": {
        "id": "anf9C5zhKFWa"
      },
      "execution_count": null,
      "outputs": []
    },
    {
      "cell_type": "markdown",
      "source": [
        "**2. Removing a Constraint**\n",
        "To remove a constraint, use:"
      ],
      "metadata": {
        "id": "j4tOit_vKJXI"
      }
    },
    {
      "cell_type": "code",
      "source": [
        "ALTER TABLE table_name DROP CONSTRAINT constraint_name;"
      ],
      "metadata": {
        "id": "5z0YUMGHKQYq"
      },
      "execution_count": null,
      "outputs": []
    },
    {
      "cell_type": "markdown",
      "source": [
        "**Example: Removing the CHECK Constraint**\n",
        "\n",
        "If we want to remove the check_salary constraint:"
      ],
      "metadata": {
        "id": "nDD1lwykKTvp"
      }
    },
    {
      "cell_type": "code",
      "source": [
        "ALTER TABLE employees\n",
        "DROP CONSTRAINT check_salary;"
      ],
      "metadata": {
        "id": "aJ5yO0QgKcph"
      },
      "execution_count": null,
      "outputs": []
    },
    {
      "cell_type": "markdown",
      "source": [
        "**More Examples for Adding & Removing Constraints**\n",
        "\n",
        "**Adding a NOT NULL Constraint**\n",
        "\n",
        "NOT NULL constraints cannot be added directly with ALTER TABLE. Instead, you modify the column:"
      ],
      "metadata": {
        "id": "MqO9r5poKf-9"
      }
    },
    {
      "cell_type": "code",
      "source": [
        "ALTER TABLE employees\n",
        "ALTER COLUMN emp_name SET NOT NULL;"
      ],
      "metadata": {
        "id": "7UL1M5wRKwNx"
      },
      "execution_count": null,
      "outputs": []
    },
    {
      "cell_type": "markdown",
      "source": [
        "**Removing a NOT NULL Constraint**"
      ],
      "metadata": {
        "id": "rAAK2Cl4KzbA"
      }
    },
    {
      "cell_type": "code",
      "source": [
        "ALTER TABLE employees\n",
        "ALTER COLUMN emp_name DROP NOT NULL;"
      ],
      "metadata": {
        "id": "pWMzyz04K4fp"
      },
      "execution_count": null,
      "outputs": []
    },
    {
      "cell_type": "markdown",
      "source": [
        "**Adding a UNIQUE Constraint**"
      ],
      "metadata": {
        "id": "vaqQoHlfK9pZ"
      }
    },
    {
      "cell_type": "code",
      "source": [
        "ALTER TABLE employees\n",
        "ADD CONSTRAINT unique_email UNIQUE (email);"
      ],
      "metadata": {
        "id": "IfoLJhmbLCTB"
      },
      "execution_count": null,
      "outputs": []
    },
    {
      "cell_type": "markdown",
      "source": [
        "**Removing a UNIQUE Constraint**"
      ],
      "metadata": {
        "id": "ZeOzgkrmLGMD"
      }
    },
    {
      "cell_type": "code",
      "source": [
        "ALTER TABLE employees\n",
        "DROP CONSTRAINT unique_email;"
      ],
      "metadata": {
        "id": "jqd8xvYRLNVx"
      },
      "execution_count": null,
      "outputs": []
    },
    {
      "cell_type": "markdown",
      "source": [
        "**Conclusion**\n",
        "* Adding constraints ensures data integrity without recreating the table.\n",
        "* ALTER TABLE ADD CONSTRAINT is used to add constraints.\n",
        "* ALTER TABLE DROP CONSTRAINT is used to remove constraints.\n",
        "* NOT NULL is modified differently using ALTER COLUMN."
      ],
      "metadata": {
        "id": "JP8lqn6NLQFi"
      }
    },
    {
      "cell_type": "markdown",
      "source": [
        "##Q 5. Explain the consequences of attempting to insert, update, or delete data in a way that violates constraints. Provide an example of an error message that might occur when violating a constraint.\n",
        "\n",
        "**Ans** - **Consequences of Violating Constraints in SQL**\n",
        "\n",
        "When we attempt to INSERT, UPDATE, or DELETE data in a way that violates constraints, the database will reject the operation and return an error. This ensures that data integrity is maintained.\n",
        "\n",
        "**1. Consequences of Violating Constraints**\n",
        "\n",
        "a) NOT NULL Constraint Violation\n",
        "* Issue: Trying to insert a NULL value into a column with NOT NULL.\n",
        "* Consequence: The database rejects the operation.\n",
        "  * Example:"
      ],
      "metadata": {
        "id": "H_nukBHVQBXU"
      }
    },
    {
      "cell_type": "code",
      "source": [
        "INSERT INTO employees (emp_id, emp_name, age) VALUES (1, NULL, 25);"
      ],
      "metadata": {
        "id": "k1DS1WM0RthY"
      },
      "execution_count": null,
      "outputs": []
    },
    {
      "cell_type": "markdown",
      "source": [
        "Error Message:"
      ],
      "metadata": {
        "id": "v9-Qqr7iRx1j"
      }
    },
    {
      "cell_type": "code",
      "source": [
        "ERROR: Column 'emp_name' cannot be NULL"
      ],
      "metadata": {
        "id": "N9Ehn3EXR6X8"
      },
      "execution_count": null,
      "outputs": []
    },
    {
      "cell_type": "markdown",
      "source": [
        "b) UNIQUE Constraint Violation\n",
        "* Issue: Inserting a duplicate value into a UNIQUE column.\n",
        "* Consequence: The database prevents duplication.\n",
        "  * Example:"
      ],
      "metadata": {
        "id": "RjaHkiYWSAVi"
      }
    },
    {
      "cell_type": "code",
      "source": [
        "INSERT INTO employees (emp_id, email) VALUES (2, 'john@example.com');\n",
        "INSERT INTO employees (emp_id, email) VALUES (3, 'john@example.com');  -- Duplicate email"
      ],
      "metadata": {
        "id": "wuvSTwCbSP1S"
      },
      "execution_count": null,
      "outputs": []
    },
    {
      "cell_type": "markdown",
      "source": [
        "Error Message:"
      ],
      "metadata": {
        "id": "HHTrTMBtSUNR"
      }
    },
    {
      "cell_type": "code",
      "source": [
        "ERROR: Duplicate entry 'john@example.com' for key 'email'"
      ],
      "metadata": {
        "id": "yqDl1OgWSfxl"
      },
      "execution_count": null,
      "outputs": []
    },
    {
      "cell_type": "markdown",
      "source": [
        "c) CHECK Constraint Violation\n",
        "* Issue: Inserting a value that does not meet the CHECK condition.\n",
        "* Consequence: The database rejects invalid values.\n",
        "  * Example:"
      ],
      "metadata": {
        "id": "qaGGWcLhSkhy"
      }
    },
    {
      "cell_type": "code",
      "source": [
        "INSERT INTO employees (emp_id, age) VALUES (4, 16); -- Age should be at least 18"
      ],
      "metadata": {
        "id": "WdIGadyTSxat"
      },
      "execution_count": null,
      "outputs": []
    },
    {
      "cell_type": "markdown",
      "source": [
        "Error Message:"
      ],
      "metadata": {
        "id": "E0tKeYAPS1zq"
      }
    },
    {
      "cell_type": "code",
      "source": [
        "ERROR: CHECK constraint failed: age must be 18 or older"
      ],
      "metadata": {
        "id": "O5W-hPW0S7nM"
      },
      "execution_count": null,
      "outputs": []
    },
    {
      "cell_type": "markdown",
      "source": [
        "d) PRIMARY KEY Constraint Violation\n",
        "* Issue: Trying to insert a duplicate value or NULL into a PRIMARY KEY column.\n",
        "* Consequence: The database ensures each record is uniquely identifiable.\n",
        "  * Example:"
      ],
      "metadata": {
        "id": "u4zScZI7S_vL"
      }
    },
    {
      "cell_type": "code",
      "source": [
        "INSERT INTO employees (emp_id, emp_name) VALUES (1, 'Alice');\n",
        "INSERT INTO employees (emp_id, emp_name) VALUES (1, 'Bob');  -- Duplicate ID"
      ],
      "metadata": {
        "id": "pQ4x5dhqTN3K"
      },
      "execution_count": null,
      "outputs": []
    },
    {
      "cell_type": "markdown",
      "source": [
        "Error Message:"
      ],
      "metadata": {
        "id": "-A29q7B-TRxq"
      }
    },
    {
      "cell_type": "code",
      "source": [
        "ERROR: Duplicate entry '1' for key 'PRIMARY'"
      ],
      "metadata": {
        "id": "LWu6ZXAsTV2D"
      },
      "execution_count": null,
      "outputs": []
    },
    {
      "cell_type": "markdown",
      "source": [
        "e) FOREIGN KEY Constraint Violation\n",
        "* Issue: Inserting or updating a record that does not have a matching entry in the referenced table.\n",
        "* Consequence: The database enforces referential integrity.\n",
        "  * Example:"
      ],
      "metadata": {
        "id": "FSABUcL2Tc2g"
      }
    },
    {
      "cell_type": "code",
      "source": [
        "INSERT INTO employees (emp_id, department_id) VALUES (5, 999); -- Department ID 999 does not exist"
      ],
      "metadata": {
        "id": "d2mGoPtRTk5y"
      },
      "execution_count": null,
      "outputs": []
    },
    {
      "cell_type": "markdown",
      "source": [
        "Error Message:"
      ],
      "metadata": {
        "id": "OIhQHxRHTpe9"
      }
    },
    {
      "cell_type": "code",
      "source": [
        "ERROR: Foreign key constraint fails: department_id does not exist"
      ],
      "metadata": {
        "id": "98dAKMolTwGa"
      },
      "execution_count": null,
      "outputs": []
    },
    {
      "cell_type": "markdown",
      "source": [
        "**2. Consequences When Violating Constraints During** 'UPDATE' or 'DELETE'\n",
        "* UPDATE violations: Updating a column to an invalid value (e.g., setting NULL in a NOT NULL column).\n",
        "* DELETE violations: Deleting a row referenced by a FOREIGN KEY.\n",
        "  * Example: Trying to Delete a Referenced Record"
      ],
      "metadata": {
        "id": "lFUb17MvT1vb"
      }
    },
    {
      "cell_type": "code",
      "source": [
        "DELETE FROM departments WHERE department_id = 1;"
      ],
      "metadata": {
        "id": "tN8fJ2IyUDo8"
      },
      "execution_count": null,
      "outputs": []
    },
    {
      "cell_type": "markdown",
      "source": [
        "Error Message:"
      ],
      "metadata": {
        "id": "NirUUw9kUIAN"
      }
    },
    {
      "cell_type": "code",
      "source": [
        "ERROR: Cannot delete or update a parent row: a foreign key constraint fails"
      ],
      "metadata": {
        "id": "Dei307V5UMGV"
      },
      "execution_count": null,
      "outputs": []
    },
    {
      "cell_type": "markdown",
      "source": [
        "##Q 6. You created a products table without constraints as follows: CREATE TABLE products ( product_id INT, product_name VARCHAR(50), price DECIMAL(10, 2)); Now, you realise that The product_id should be a primary key The price should have a default value of 50.00\n",
        "\n",
        "**Ans** - **Modifying the products Table to Add Constraints**\n",
        "\n",
        "Since the products table was created without constraints, we need to use the ALTER TABLE command to add a primary key and set a default value for the price column.\n",
        "\n",
        "**1. Adding PRIMARY KEY Constraint to product_id**\n",
        "\n",
        "A primary key ensures that:\n",
        "* Each product_id is unique.\n",
        "* It cannot be NULL."
      ],
      "metadata": {
        "id": "6B5PcZNQQByF"
      }
    },
    {
      "cell_type": "code",
      "source": [
        "ALTER TABLE products\n",
        "ADD CONSTRAINT pk_product PRIMARY KEY (product_id);"
      ],
      "metadata": {
        "id": "B7EfZuVHVROp"
      },
      "execution_count": null,
      "outputs": []
    },
    {
      "cell_type": "markdown",
      "source": [
        "**2. Setting Default Value for price**\n",
        "\n",
        "A default value ensures that if no price is provided, it automatically defaults to 50.00."
      ],
      "metadata": {
        "id": "ztHAQgxcVWfq"
      }
    },
    {
      "cell_type": "code",
      "source": [
        "ALTER TABLE products\n",
        "ALTER COLUMN price SET DEFAULT 50.00;"
      ],
      "metadata": {
        "id": "9JmQJl5MVnXI"
      },
      "execution_count": null,
      "outputs": []
    },
    {
      "cell_type": "markdown",
      "source": [
        "**Final Table Structure After Modifications**\n",
        "\n",
        "The products table will now have:\n",
        "* A primary key on product_id.\n",
        "* A default value of 50.00 for price."
      ],
      "metadata": {
        "id": "zW7Go-juVqb2"
      }
    },
    {
      "cell_type": "code",
      "source": [
        "CREATE TABLE products (\n",
        "    product_id INT PRIMARY KEY,\n",
        "    product_name VARCHAR(50),\n",
        "    price DECIMAL(10,2) DEFAULT 50.00\n",
        ");"
      ],
      "metadata": {
        "id": "uIvZvyJwV25v"
      },
      "execution_count": null,
      "outputs": []
    },
    {
      "cell_type": "markdown",
      "source": [
        "**Testing the Changes**\n",
        "* Inserting a Product Without Specifying price"
      ],
      "metadata": {
        "id": "kCnlFE3yV7af"
      }
    },
    {
      "cell_type": "code",
      "source": [
        "INSERT INTO products (product_id, product_name)\n",
        "VALUES (1, 'Laptop');"
      ],
      "metadata": {
        "id": "eF-01tMSWG0B"
      },
      "execution_count": null,
      "outputs": []
    },
    {
      "cell_type": "markdown",
      "source": [
        "* Outcome: The price will automatically be 50.00.\n",
        "\n",
        "**Inserting a Duplicate** 'product_id'"
      ],
      "metadata": {
        "id": "YTGXCCH-WLcf"
      }
    },
    {
      "cell_type": "code",
      "source": [
        "INSERT INTO products (product_id, product_name, price)\n",
        "VALUES (1, 'Phone', 799.99);"
      ],
      "metadata": {
        "id": "5HuYRLVkip5J"
      },
      "execution_count": null,
      "outputs": []
    },
    {
      "cell_type": "markdown",
      "source": [
        "Error Message:"
      ],
      "metadata": {
        "id": "-muq6NDGitui"
      }
    },
    {
      "cell_type": "code",
      "source": [
        "ERROR: Duplicate entry '1' for key 'PRIMARY'"
      ],
      "metadata": {
        "id": "2hV97M9Yiy3Q"
      },
      "execution_count": null,
      "outputs": []
    },
    {
      "cell_type": "markdown",
      "source": [
        "##Q 7. You have two tables:\n",
        "* Students:\n",
        "\n",
        "|student_id|student_name|class_id|\n",
        "|-|||\n",
        "|1|Alice|101|\n",
        "|2|Bob|102|\n",
        "|3|Charlie|101|\n",
        "\n",
        "* Classes\n",
        "\n",
        "|class_id|class_name|\n",
        "|-||\n",
        "|101|Math|\n",
        "|102|Science|\n",
        "|103|History|\n",
        "\n",
        "Write a query to fetch the student_name and class_name for each student using an INNER JOIN.\n",
        "\n",
        "**Ans** - To fetch the student_name and class_name for each student using an INNER JOIN, we need to join the Students and Classes tables on the class_id column.\n",
        "\n",
        "**SQL Query**"
      ],
      "metadata": {
        "id": "mTiYR6hPQCK9"
      }
    },
    {
      "cell_type": "code",
      "source": [
        "SELECT\n",
        "    Students.student_name,\n",
        "    Classes.class_name\n",
        "FROM Students\n",
        "INNER JOIN Classes ON Students.class_id = Classes.class_id;"
      ],
      "metadata": {
        "id": "o0y5gJpCjEeq"
      },
      "execution_count": null,
      "outputs": []
    },
    {
      "cell_type": "markdown",
      "source": [
        "**Explanation:**\n",
        "1. The INNER JOIN combines rows from both tables where Students.class_id matches Classes.class_id.\n",
        "2. It selects:\n",
        "* student_name from the Students table.\n",
        "* class_name from the Classes table.\n",
        "\n",
        "**Expected Output:**\n",
        "\n",
        "|student_name\t|class_name|\n",
        "|-||\n",
        "|Alice\t|Math|\n",
        "|Bob\t|Science|\n",
        "|Charlie\t|Math|"
      ],
      "metadata": {
        "id": "EWSoV1XKjHxx"
      }
    },
    {
      "cell_type": "markdown",
      "source": [
        "##Q 8. Cosider the following three tables:\n",
        "* Orders:\n",
        "\n",
        "|order_id|order_date|customer_id|\n",
        "|-|||\n",
        "|1|2024-01-01|101|\n",
        "|2|2024-01-03|102|\n",
        "\n",
        "* customers:\n",
        "\n",
        "|customer_id|customer_name|\n",
        "|-||\n",
        "|101|Alice|\n",
        "|102|Bob|\n",
        "\n",
        "* Products:\n",
        "\n",
        "|product_id|product_name|order_id|\n",
        "|-|||\n",
        "|1|Laptop|1|\n",
        "|2|Phone|Null|\n",
        "\n",
        "Write a query that shows all order_id, customer_name, and product_name, ensuring that all products are listed even if they are not associated with an order Hint: (use INNER JOIN and LEFT JOIN)\n",
        "\n",
        "**Ans** -  To retrieve all order_id, customer_name, and product_name, ensuring that all products are listed even if they are not associated with an order, we need to use INNER JOIN and LEFT JOIN.\n",
        "\n",
        "**SQL Query**"
      ],
      "metadata": {
        "id": "cTgcTbm-QCjs"
      }
    },
    {
      "cell_type": "code",
      "source": [
        "SELECT\n",
        "    Orders.order_id,\n",
        "    Customers.customer_name,\n",
        "    Products.product_name\n",
        "FROM Products\n",
        "LEFT JOIN Orders ON Products.order_id = Orders.order_id\n",
        "LEFT JOIN Customers ON Orders.customer_id = Customers.customer_id;"
      ],
      "metadata": {
        "id": "onjHy7wKjnKa"
      },
      "execution_count": null,
      "outputs": []
    },
    {
      "cell_type": "markdown",
      "source": [
        "**Explanation:**\n",
        "1. LEFT JOIN Products with Orders\n",
        "* Ensures that all products are included, even if they are not linked to an order (i.e., order_id is NULL in Products).\n",
        "\n",
        "2. LEFT JOIN Orders with Customers\n",
        "* Ensures that we retrieve the customer_name associated with each order_id.\n",
        "* If an order is missing, customer_name will be NULL.\n",
        "\n",
        "**Expected Output:**\n",
        "\n",
        "|order_id\t|customer_name\t|product_name|\n",
        "|-|||\n",
        "|1\t|Alice\t|Laptop|\n",
        "|NULL\t|NULL\t|Phone|\n",
        "\n",
        "* The Laptop is associated with order 1 placed by Alice.\n",
        "* The Phone is listed even though it is not associated with any order (order_id = NULL)."
      ],
      "metadata": {
        "id": "TGBueAgojra5"
      }
    },
    {
      "cell_type": "markdown",
      "source": [
        "##Q 9. Given the following tables:\n",
        "* Sales\n",
        "\n",
        "|sale_id|product_id|amount|\n",
        "|-|||\n",
        "|1|101|500|\n",
        "|2|102|300|\n",
        "|3|101|700|\n",
        "\n",
        "* Products:\n",
        "\n",
        "|product_id|product_name|\n",
        "|-||\n",
        "|101|Laptop|\n",
        "|102|Phone|\n",
        "\n",
        "Write a query to find the total sales amount for each product using an INNER JOIN and the SUM() function.\n",
        "\n",
        "**Ans** - To find the total sales amount for each product using an INNER JOIN and the SUM() function, we can use the following SQL query:\n",
        "\n",
        "**SQL Query**"
      ],
      "metadata": {
        "id": "EwAN2hGkQC60"
      }
    },
    {
      "cell_type": "code",
      "source": [
        "SELECT\n",
        "    Products.product_name,\n",
        "    SUM(Sales.amount) AS total_sales\n",
        "FROM Sales\n",
        "INNER JOIN Products ON Sales.product_id = Products.product_id\n",
        "GROUP BY Products.product_name;"
      ],
      "metadata": {
        "id": "iX9FbUgGkTvi"
      },
      "execution_count": null,
      "outputs": []
    },
    {
      "cell_type": "markdown",
      "source": [
        "**Explanation:**\n",
        "1. INNER JOIN Sales with Products\n",
        "* This ensures that we match each sale to its corresponding product using product_id.\n",
        "\n",
        "2. SUM(Sales.amount)\n",
        "* This calculates the total sales amount for each product.\n",
        "\n",
        "3. GROUP BY Products.product_name\n",
        "* This groups the results by product_name so that we get total sales per product.\n",
        "\n",
        "**Expected Output:**\n",
        "\n",
        "|product_name\t|total_sales|\n",
        "|-||\n",
        "|Laptop\t|1200|\n",
        "|Phone\t|300|\n",
        "\n",
        "* Laptop has total sales of 500 + 700 = 1200.\n",
        "* Phone has total sales of 300."
      ],
      "metadata": {
        "id": "yWV2ObQokXQC"
      }
    },
    {
      "cell_type": "markdown",
      "source": [
        "##Q 10. You are given three tables:\n",
        "* Orders:\n",
        "\n",
        "|order_id|order_date|customer_id|\n",
        "|-|||\n",
        "|1|2024-01-02|1|\n",
        "|2|2024-01-05|2|\n",
        "\n",
        "* Customers:\n",
        "\n",
        "|customer_id|customer_name|\n",
        "|-||\n",
        "|1|Alice|\n",
        "|2|Bob|\n",
        "\n",
        "* Order_Details\n",
        "\n",
        "|order_id|product_id|quantity|\n",
        "|-|||\n",
        "|1|101|2|\n",
        "|1|102|1|\n",
        "|2|101|3|\n",
        "\n",
        "Write a query to display the order_id, customer_name, and the quantity of products ordered by each customer using an INNER JOIN between all three tables.\n",
        "\n",
        "**Ans** - To display the order_id, customer_name, and quantity of products ordered by each customer using an INNER JOIN across all three tables, use the following SQL query:\n",
        "\n",
        "**SQL Query**"
      ],
      "metadata": {
        "id": "dMQ5-4dkQDXb"
      }
    },
    {
      "cell_type": "code",
      "source": [
        "SELECT\n",
        "    Orders.order_id,\n",
        "    Customers.customer_name,\n",
        "    Order_Details.quantity\n",
        "FROM Orders\n",
        "INNER JOIN Customers ON Orders.customer_id = Customers.customer_id\n",
        "INNER JOIN Order_Details ON Orders.order_id = Order_Details.order_id;"
      ],
      "metadata": {
        "id": "XRQ9LOjyk_wq"
      },
      "execution_count": null,
      "outputs": []
    },
    {
      "cell_type": "markdown",
      "source": [
        "**Explanation**\n",
        "1. INNER JOIN Orders with Customers\n",
        "* This links each order to the respective customer using customer_id.\n",
        "2. INNER JOIN Orders with Order_Details\n",
        "* This links each order to its corresponding product details using order_id.\n",
        "3. Selecting Required Columns\n",
        "* Orders.order_id: Displays the order number.\n",
        "* Customers.customer_name: Fetches the customer's name.\n",
        "* Order_Details.quantity: Displays the number of products ordered.\n",
        "\n",
        "**Expected Output:**\n",
        "\n",
        "|order_id\t|customer_name\t|quantity|\n",
        "|-|||\n",
        "|1\t|Alice\t|2|\n",
        "|1\t|Alice|\t2|\n",
        "|2|\tBob|\t3|"
      ],
      "metadata": {
        "id": "JRKwJYHAlDXL"
      }
    },
    {
      "cell_type": "markdown",
      "source": [
        "#SQL Commands"
      ],
      "metadata": {
        "id": "U9jrPM4uQGO2"
      }
    },
    {
      "cell_type": "markdown",
      "source": [
        "##Q 1. Identify the primary keys and foreign keys in maven movies db. Discuss the differences.\n",
        "\n",
        "**Ans** - Primary Keys and Foreign Keys in the Maven Movies Database\n",
        "\n",
        "**Primary Keys**\n",
        "\n",
        "Primary keys uniquely identify each record in a table. The following tables and their primary keys were found:\n",
        "* actor: actor_id\n",
        "* actor_award: actor_award_id\n",
        "* address: address_id\n",
        "* advisor: advisor_id\n",
        "* category: category_id\n",
        "* city: city_id\n",
        "* country: country_id\n",
        "* customer: customer_id\n",
        "* film: film_id\n",
        "* film_actor: (actor_id, film_id) (Composite PK)\n",
        "* film_category: (film_id, category_id) (Composite PK)\n",
        "* film_text: film_id\n",
        "* inventory: inventory_id\n",
        "* investor: investor_id\n",
        "* language: language_id\n",
        "* payment: payment_id\n",
        "* rental: rental_id\n",
        "* staff: staff_id\n",
        "* store: store_id\n",
        "\n",
        "\n",
        "**Foreign Keys**\n",
        "\n",
        "Foreign keys create relationships between tables by referencing primary keys in other tables:\n",
        "\n",
        "* address.city_id → city.city_id\n",
        "* city.country_id → country.country_id\n",
        "* customer.address_id → address.address_id\n",
        "* customer.store_id → store.store_id\n",
        "* film.language_id → language.language_id\n",
        "* film.original_language_id → language.language_id\n",
        "* film_actor.actor_id → actor.actor_id\n",
        "* film_actor.film_id → film.film_id\n",
        "* film_category.film_id → film.film_id\n",
        "* film_category.category_id → category.category_id\n",
        "* inventory.store_id → store.store_id\n",
        "* inventory.film_id → film.film_id\n",
        "* payment.rental_id → rental.rental_id\n",
        "* payment.customer_id → customer.customer_id\n",
        "* payment.staff_id → staff.staff_id\n",
        "* rental.staff_id → staff.staff_id\n",
        "* rental.inventory_id → inventory.inventory_id\n",
        "* rental.customer_id → customer.customer_id\n",
        "* staff.store_id → store.store_id\n",
        "* staff.address_id → address.address_id\n",
        "* store.manager_staff_id → staff.staff_id\n",
        "* store.address_id → address.address_id\n",
        "\n",
        "**Differences Between Primary Keys and Foreign Keys**\n",
        "\n",
        "|Feature\t|Primary Key\t|Foreign Key|\n",
        "|-|||\n",
        "|Purpose\t|Uniquely identifies a record in a table\t|Establishes relationships between tables|\n",
        "|Uniqueness\t|Always unique for each record\t|Can have duplicate values|\n",
        "|Null Values\t|Cannot be NULL\t|Can be NULL (if relationships are optional)|\n",
        "|Usage\t|Used for identifying records in a table |Used for linking related records in different tables|\n",
        "|Constraint\t|Enforces uniqueness and ensures every row has a valid identifier\t|Ensures referential integrity by pointing to a valid primary key in another table|"
      ],
      "metadata": {
        "id": "qXCxFt2mQMZ1"
      }
    },
    {
      "cell_type": "markdown",
      "source": [
        "##Q 2. List all details of actors\n",
        "\n",
        "**Ans** - To list all details of actors from the Maven Movies database, you can use the following SQL query:"
      ],
      "metadata": {
        "id": "q_uBmr-CQNK-"
      }
    },
    {
      "cell_type": "code",
      "source": [
        "use mavenmovies;\n",
        "select * from actor;"
      ],
      "metadata": {
        "id": "vgcgpxlNmURL"
      },
      "execution_count": null,
      "outputs": []
    },
    {
      "cell_type": "markdown",
      "source": [
        "This will return all columns from the actor table, including:\n",
        "* actor_id\n",
        "* first_name\n",
        "* last_name\n",
        "* last_update"
      ],
      "metadata": {
        "id": "kaQ0OvmYmX8i"
      }
    },
    {
      "cell_type": "markdown",
      "source": [
        "##Q 3. List all customer information from DB"
      ],
      "metadata": {
        "id": "F1BLwBEeQNi-"
      }
    },
    {
      "cell_type": "code",
      "source": [
        "use mavenmovies;\n",
        "select * from customer;"
      ],
      "metadata": {
        "id": "l7aP8OBjr7g1"
      },
      "execution_count": null,
      "outputs": []
    },
    {
      "cell_type": "markdown",
      "source": [
        "This will return all columns from the customer table, including:\n",
        "* customer_id\n",
        "* store_id\n",
        "* first_name\n",
        "* last_name\n",
        "* email\n",
        "* address_id\n",
        "* active\n",
        "* create_date\n",
        "* last_update"
      ],
      "metadata": {
        "id": "4NMQLRnJn9hI"
      }
    },
    {
      "cell_type": "markdown",
      "source": [
        "##Q 4. List different countries."
      ],
      "metadata": {
        "id": "PN9J2Jq6QN2n"
      }
    },
    {
      "cell_type": "code",
      "source": [
        "use avenmovies;\n",
        "select country from country;"
      ],
      "metadata": {
        "id": "y-p7xxI6sGN2"
      },
      "execution_count": null,
      "outputs": []
    },
    {
      "cell_type": "markdown",
      "source": [
        "it will show list of all 109 country like Afganistan, Algeria ....etc."
      ],
      "metadata": {
        "id": "K6uBpwlqvMq5"
      }
    },
    {
      "cell_type": "markdown",
      "source": [
        "##Q 5. Display all active customers\n",
        "**Ans** - To display all active customers we use following command it will show"
      ],
      "metadata": {
        "id": "vQ1deZ_8QOLc"
      }
    },
    {
      "cell_type": "code",
      "source": [
        "use mavenmovies;\n",
        "select * from customer where active = 1;"
      ],
      "metadata": {
        "id": "TRZNQWZe0hwR"
      },
      "execution_count": null,
      "outputs": []
    },
    {
      "cell_type": "markdown",
      "source": [
        "##Q 6. List of all rental IDs for customer with ID 1."
      ],
      "metadata": {
        "id": "AsMTbQcXQOgU"
      }
    },
    {
      "cell_type": "code",
      "source": [
        "use mavenmovies;\n",
        "select * from rental where customer_id = 1;"
      ],
      "metadata": {
        "id": "XTcgoyaf6n_s"
      },
      "execution_count": null,
      "outputs": []
    },
    {
      "cell_type": "markdown",
      "source": [
        "##Q 7. Display all the films whose rental duration is greater than 5 ."
      ],
      "metadata": {
        "id": "FpBg9B3_QO0a"
      }
    },
    {
      "cell_type": "code",
      "source": [
        "use mavenmovies;\n",
        "select * from film where rental_duration > 5;"
      ],
      "metadata": {
        "id": "28rpVid367Cc"
      },
      "execution_count": null,
      "outputs": []
    },
    {
      "cell_type": "markdown",
      "source": [
        "##Q 8. List the total number of films whose replacement cost is greater than $15 and less than 20."
      ],
      "metadata": {
        "id": "pgP9jK9LQQcX"
      }
    },
    {
      "cell_type": "code",
      "source": [
        "use mavenmovies;\n",
        "select * from film where replacement_cost between 15 and 20;"
      ],
      "metadata": {
        "id": "QMGVu1vX7OuD"
      },
      "execution_count": null,
      "outputs": []
    },
    {
      "cell_type": "markdown",
      "source": [
        "there are total 214 films."
      ],
      "metadata": {
        "id": "2X6KCp9N7z38"
      }
    },
    {
      "cell_type": "markdown",
      "source": [
        "##Q 9. Display the count of unique first names of actors."
      ],
      "metadata": {
        "id": "Hx-YgcJsQTKV"
      }
    },
    {
      "cell_type": "code",
      "source": [
        "use mavenmovies;\n",
        "select count(distinct first_name) from actor;"
      ],
      "metadata": {
        "id": "dpisiuPn75x7"
      },
      "execution_count": null,
      "outputs": []
    },
    {
      "cell_type": "markdown",
      "source": [
        "there are total 128 distinct first name"
      ],
      "metadata": {
        "id": "aiTkbZwL8QlV"
      }
    },
    {
      "cell_type": "markdown",
      "source": [
        "##Q 10. Display the first 10 records from the customer table\n",
        "**Ans** -"
      ],
      "metadata": {
        "id": "i2TRgWgdQTuF"
      }
    },
    {
      "cell_type": "code",
      "source": [
        "use mavenmovies;\n",
        "select * from customer limit 10;"
      ],
      "metadata": {
        "id": "F4pXwJT55B_0"
      },
      "execution_count": null,
      "outputs": []
    },
    {
      "cell_type": "markdown",
      "source": [
        "##Q 11. Display the first 3 records from the customer table whose first name starts with ‘b’."
      ],
      "metadata": {
        "id": "9DfRDUlcQUIU"
      }
    },
    {
      "cell_type": "code",
      "source": [
        "use mavenmovies;\n",
        "select * from customer where first_name like 'b%' limit 3;"
      ],
      "metadata": {
        "id": "Rdh4FhFk8fLO"
      },
      "execution_count": null,
      "outputs": []
    },
    {
      "cell_type": "markdown",
      "source": [
        "##Q 12. Display the names of the first 5 movies which are rated as ‘G’."
      ],
      "metadata": {
        "id": "b35cS_mSQUgd"
      }
    },
    {
      "cell_type": "code",
      "source": [
        "use mavenmovies;\n",
        "select * from film where rating = 'G' limit 5;"
      ],
      "metadata": {
        "id": "9Nml0BcE8tzb"
      },
      "execution_count": null,
      "outputs": []
    },
    {
      "cell_type": "markdown",
      "source": [
        "##Q 13. Find all customers whose first name starts with \"a\"."
      ],
      "metadata": {
        "id": "JmAZ2helQU1d"
      }
    },
    {
      "cell_type": "code",
      "source": [
        "use mavenmovies;\n",
        "select * from customer where first_name like 'a%';"
      ],
      "metadata": {
        "id": "VrvbIr8k866M"
      },
      "execution_count": null,
      "outputs": []
    },
    {
      "cell_type": "markdown",
      "source": [
        "##Q 14. Find all customers whose first name ends with \"a\"."
      ],
      "metadata": {
        "id": "zi5GIao3QVM-"
      }
    },
    {
      "cell_type": "code",
      "source": [
        "use mavenmovies;\n",
        "select * from customer where first_name like '%a';"
      ],
      "metadata": {
        "id": "Iu_YegiM9LfW"
      },
      "execution_count": null,
      "outputs": []
    },
    {
      "cell_type": "markdown",
      "source": [
        "##Q 15. Display the list of first 4 cities which start and end with ‘a’ ."
      ],
      "metadata": {
        "id": "P2Kz2JxNQViG"
      }
    },
    {
      "cell_type": "code",
      "source": [
        "use mavenmovies;\n",
        "select * from city where city like 'a%a' limit 4;"
      ],
      "metadata": {
        "id": "Z-5uknEj9bsE"
      },
      "execution_count": null,
      "outputs": []
    },
    {
      "cell_type": "markdown",
      "source": [
        "##Q 16. Find all customers whose first name have \"NI\" in any position."
      ],
      "metadata": {
        "id": "Cfx_LBFyQV4l"
      }
    },
    {
      "cell_type": "code",
      "source": [
        "use mavenmovies;\n",
        "select * from customer where first_name like '%NI%';"
      ],
      "metadata": {
        "id": "YGMon2ep9wi0"
      },
      "execution_count": null,
      "outputs": []
    },
    {
      "cell_type": "markdown",
      "source": [
        "##Q 17. Find all customers whose first name have \"r\" in the second position ."
      ],
      "metadata": {
        "id": "ZwBFDTRuQWPV"
      }
    },
    {
      "cell_type": "code",
      "source": [
        "use mavenmovies;\n",
        "select * from customer where first_name like '_r%';"
      ],
      "metadata": {
        "id": "z2iB-qCU-OQF"
      },
      "execution_count": null,
      "outputs": []
    },
    {
      "cell_type": "markdown",
      "source": [
        "##Q 18. Find all customers whose first name starts with \"a\" and are at least 5 characters in length."
      ],
      "metadata": {
        "id": "S3jZkGXuQWpN"
      }
    },
    {
      "cell_type": "code",
      "source": [
        "use mavenmovies;\n",
        "select * from customer where first_name like 'a%' and length(first_name) >= 5;"
      ],
      "metadata": {
        "id": "6TpTxIRW-k69"
      },
      "execution_count": null,
      "outputs": []
    },
    {
      "cell_type": "markdown",
      "source": [
        "##Q 19. Find all customers whose first name starts with \"a\" and ends with \"o\"."
      ],
      "metadata": {
        "id": "933wrkMnQXBV"
      }
    },
    {
      "cell_type": "code",
      "source": [
        "use mavenmovies;\n",
        "select * from customer where first_name like 'a%o';"
      ],
      "metadata": {
        "id": "Y9BXB4-2-3sV"
      },
      "execution_count": null,
      "outputs": []
    },
    {
      "cell_type": "markdown",
      "source": [
        "##Q 20. Get the films with pg and pg-13 rating using IN operator."
      ],
      "metadata": {
        "id": "T0NuDQHwQYJN"
      }
    },
    {
      "cell_type": "code",
      "source": [
        "use mavenmovies;\n",
        "select * from film where rating in('PG','PG-13');"
      ],
      "metadata": {
        "id": "UXnDbW2c_Dic"
      },
      "execution_count": null,
      "outputs": []
    },
    {
      "cell_type": "markdown",
      "source": [
        "##Q 21. Get the films with length between 50 to 100 using between operator.\n"
      ],
      "metadata": {
        "id": "JwCDdkKxQY4N"
      }
    },
    {
      "cell_type": "code",
      "source": [
        "use mavenmovies;\n",
        "select * from film where length between 50 and 100;"
      ],
      "metadata": {
        "id": "SnZBJHYQ_oiF"
      },
      "execution_count": null,
      "outputs": []
    },
    {
      "cell_type": "markdown",
      "source": [
        "##Q 22. Get the top 50 actors using limit operator."
      ],
      "metadata": {
        "id": "zPYLxBmuQZN2"
      }
    },
    {
      "cell_type": "code",
      "source": [
        "use mavenmovies;\n",
        "select * from actor limit 50;"
      ],
      "metadata": {
        "id": "m0nzg2KN_6wV"
      },
      "execution_count": null,
      "outputs": []
    },
    {
      "cell_type": "markdown",
      "source": [
        "##Q 23. Get the distinct film ids from inventory table."
      ],
      "metadata": {
        "id": "s4GWDFQ8x_i_"
      }
    },
    {
      "cell_type": "code",
      "source": [
        "use mavenmovies;\n",
        "select distinct film_id from inventory;"
      ],
      "metadata": {
        "id": "PaisZA0jADp9"
      },
      "execution_count": null,
      "outputs": []
    },
    {
      "cell_type": "markdown",
      "source": [
        "#Functions\n",
        "##Basic Aggregate Functions"
      ],
      "metadata": {
        "id": "WEzmcDa1QaBe"
      }
    },
    {
      "cell_type": "markdown",
      "source": [
        "##Q 1. Retrieve the total number of rentals made in the Sakila database. Hint: Use the COUNT() function."
      ],
      "metadata": {
        "id": "eZWV2oHqQpOe"
      }
    },
    {
      "cell_type": "code",
      "source": [
        "use sakila;\n",
        "select count(*) from rental;"
      ],
      "metadata": {
        "id": "vWfqo4c2AVpN"
      },
      "execution_count": null,
      "outputs": []
    },
    {
      "cell_type": "markdown",
      "source": [
        "##Q 2. Find the average rental duration (in days) of movies rented from the Sakila database. Hint: Utilize the AVG() function. String Functions:"
      ],
      "metadata": {
        "id": "XLdMVvO7QuOm"
      }
    },
    {
      "cell_type": "code",
      "source": [
        "use sakila;\n",
        "select avg(datediff(return_date,rental_date)) from rental;"
      ],
      "metadata": {
        "id": "3JqFnLRyA0yV"
      },
      "execution_count": null,
      "outputs": []
    },
    {
      "cell_type": "markdown",
      "source": [
        "##Q 3. Display the first name and last name of customers in uppercase. Hint: Use the UPPER () function."
      ],
      "metadata": {
        "id": "DhLIXCD6QuyN"
      }
    },
    {
      "cell_type": "code",
      "source": [
        "use sakila;\n",
        "select upper(first_name),upper(last_name) from customer;"
      ],
      "metadata": {
        "id": "juBXzezsBnyv"
      },
      "execution_count": null,
      "outputs": []
    },
    {
      "cell_type": "markdown",
      "source": [
        "##Q 4. Extract the month from the rental date and display it alongside the rental ID. Hint: Employ the MONTH() function. GROUP BY:\n"
      ],
      "metadata": {
        "id": "sXMOANFeQvJc"
      }
    },
    {
      "cell_type": "code",
      "source": [
        "use sakila;\n",
        "select rental_id,month(rental_date) from rental;"
      ],
      "metadata": {
        "id": "XKHXyQFQB6d9"
      },
      "execution_count": null,
      "outputs": []
    },
    {
      "cell_type": "markdown",
      "source": [
        "##Q 5. Retrieve the count of rentals for each customer (display customer ID and the count of rentals). Hint: Use COUNT () in conjunction with GROUP BY."
      ],
      "metadata": {
        "id": "PmI81oHHQvf1"
      }
    },
    {
      "cell_type": "code",
      "source": [
        "use sakila;\n",
        "select customer_id,count(*) from rental group by customer_id;"
      ],
      "metadata": {
        "id": "e5VFk6jeCGZu"
      },
      "execution_count": null,
      "outputs": []
    },
    {
      "cell_type": "markdown",
      "source": [
        "##Q 6. Find the total revenue generated by each store. Hint: Combine SUM() and GROUP BY."
      ],
      "metadata": {
        "id": "_ecz4mt0Qv1u"
      }
    },
    {
      "cell_type": "code",
      "source": [
        "use sakila;\n",
        "select store_id,sum(amount) from payment group by scorer_id;"
      ],
      "metadata": {
        "id": "qxF8a0NCCWzG"
      },
      "execution_count": null,
      "outputs": []
    },
    {
      "cell_type": "markdown",
      "source": [
        "##Q 7. Determine the total number of rentals for each category of movies. Hint: JOIN film_category, film, and rental tables, then use cOUNT () and GROUP BY."
      ],
      "metadata": {
        "id": "yBnt1STaQwNN"
      }
    },
    {
      "cell_type": "code",
      "source": [
        "use sakila;\n",
        "select category_id,count(*) from film_category group by category_id;"
      ],
      "metadata": {
        "id": "jDCbH6oiCsKm"
      },
      "execution_count": null,
      "outputs": []
    },
    {
      "cell_type": "markdown",
      "source": [
        "##Q 8. Find the average rental rate of movies in each language. Hint: JOIN film and language tables, then use AVG () and GROUP BY.Joins\n"
      ],
      "metadata": {
        "id": "knRW0ZNtQwhd"
      }
    },
    {
      "cell_type": "code",
      "source": [
        "use sakila;\n",
        "select language_id,avg(rental_rate) from film group by language_id;"
      ],
      "metadata": {
        "id": "i4rD77VHC-WG"
      },
      "execution_count": null,
      "outputs": []
    },
    {
      "cell_type": "markdown",
      "source": [
        "#Joins\n",
        "##Q 9.  Display the title of the movie, customers first name, and last name who rented it. Hint: Use JOIN between the film, inventory, rental, and customer tables."
      ],
      "metadata": {
        "id": "2Gvy-C_oQxXW"
      }
    },
    {
      "cell_type": "code",
      "source": [
        "use sakila;\n",
        "select film.title,customer.first_name,customer.last_name from film_category\n",
        "inner join film on film_category.film_id = film.film_id\n",
        "inner join inventory on film.film_id = inventory.film_id\n",
        "inner join rental on inventory.inventory_id = rental.inventory_id\n",
        "inner join customer on rental.customer_id = customer.customer_id;"
      ],
      "metadata": {
        "id": "o4bSQxEoDRLB"
      },
      "execution_count": null,
      "outputs": []
    },
    {
      "cell_type": "markdown",
      "source": [
        "##Q 10. Retrieve the names of all actors who have appeared in the film \"Gone with the Wind.\" Hint: Use JOIN between the film actor, film, and actor tables."
      ],
      "metadata": {
        "id": "xIpGSVSxQ5Td"
      }
    },
    {
      "cell_type": "code",
      "source": [
        "use sakila;\n",
        "select actor.first_name,actor.last_name from actor\n",
        "inner join film on film_category.film_id = film.film_id\n",
        "inner join inventory on film.film_id = inventory.film_id\n",
        "inner join rental on inventory.inventory_id = rental.inventory_id\n",
        "inner join customer on rental.customer_id = customer.customer_id;"
      ],
      "metadata": {
        "id": "q4xWq5BHEhZ_"
      },
      "execution_count": null,
      "outputs": []
    },
    {
      "cell_type": "markdown",
      "source": [
        "##Q 11. Retrieve the customer names along with the total amount they've spent on rentals. Hint: JOIN customer, payment, and rental tables, then use SUM() and GROUP BY."
      ],
      "metadata": {
        "id": "i8RluszUQ589"
      }
    },
    {
      "cell_type": "code",
      "source": [
        "use sakila;\n",
        "select customer.first_name,customer.last_name,sum(payment.amount) from customer\n",
        "inner join payment on customer.customer_id = payment.customer_id\n",
        "group by customer.customer_id;"
      ],
      "metadata": {
        "id": "3e0jCI7wFaZg"
      },
      "execution_count": null,
      "outputs": []
    },
    {
      "cell_type": "markdown",
      "source": [
        "##Q 12. List the titles of movies rented by each customer in a particular city (e.g., 'London'). Hint: JOIN customer, address, city, rental, inventory, and film tables, then use GROUP BY."
      ],
      "metadata": {
        "id": "Np8bkgucQ6X1"
      }
    },
    {
      "cell_type": "code",
      "source": [
        "use sakila;\n",
        "select customer.first_name,customer.last_name,film.title from customer\n",
        "inner join address on customer.address_id = address.address_id\n",
        "inner join city on address.city_id = city.city_id\n",
        "inner join rental on customer.customer_id = rental.customer_id\n",
        "inner join inventory on rental.inventory_id = inventory.inventory_id\n",
        "inner join film on inventory.film_id = film.film_id\n",
        "where city.city = 'London'\n",
        "group by customer.customer_id,film.title;"
      ],
      "metadata": {
        "id": "v2yERedpGF7w"
      },
      "execution_count": null,
      "outputs": []
    },
    {
      "cell_type": "markdown",
      "source": [
        "#Advanced Joins and GROUP BY:\n",
        "##Q 13. Display the top 5 rented movies along with the number of times they've been rented. Hint: JOIN film, inventory, and rental tables, then use COUNT () and GROUP BY, and limit the results."
      ],
      "metadata": {
        "id": "UpWCBnmBQ_A0"
      }
    },
    {
      "cell_type": "code",
      "source": [
        "use sakila;\n",
        "select film.title,count(rental.rental_id) from film\n",
        "inner join inventory on film.film_id = inventory.film_id\n",
        "inner join rental on inventory.inventory_id = rental.inventory_id\n",
        "group by film.title\n",
        "order by count(rental.rental_id) desc\n",
        "limit 5;"
      ],
      "metadata": {
        "id": "8QQqxZuPJ8za"
      },
      "execution_count": null,
      "outputs": []
    },
    {
      "cell_type": "markdown",
      "source": [
        "##Q 14. Determine the customers who have rented movies from both stores (store ID 1 and store ID 2). Hint: Use JOINS with rental, inventory, and customer tables and consider COUNT() and GROUP BY."
      ],
      "metadata": {
        "id": "TVQwyKrARH9u"
      }
    },
    {
      "cell_type": "code",
      "source": [
        "use sakila;\n",
        "select customer.first_name,customer.last_name from customer\n",
        "inner join rental on customer.customer_id = rental.customer_id\n",
        "inner join inventory on rental.inventory_id = inventory.inventory_id\n",
        "inner join store on inventory.store_id = store.store_id\n",
        "where store.store_id in (1,2)\n",
        "group by customer.customer_id\n",
        "having count(distinct store.store_id) = 2;"
      ],
      "metadata": {
        "id": "5fg8GY4kL4or"
      },
      "execution_count": null,
      "outputs": []
    },
    {
      "cell_type": "markdown",
      "source": [
        "#Windows Function:\n",
        "##Q 1. Rank the customers based on the total amount they've spent on rentals."
      ],
      "metadata": {
        "id": "omiewQdqQ2Wn"
      }
    },
    {
      "cell_type": "code",
      "source": [
        "use sakila;\n",
        "select customer.first_name,customer.last_name,sum(payment.amount),\n",
        "rank() over (order by sum(payment.amount) dsec) from customer\n",
        "inner join payment on customer.customer_id = payment.customer_id\n",
        "group by customer.customer_id;"
      ],
      "metadata": {
        "id": "PnLLHWmGMyck"
      },
      "execution_count": null,
      "outputs": []
    },
    {
      "cell_type": "markdown",
      "source": [
        "##Q 2. Calculate the cumulative revenue generated by each film over time."
      ],
      "metadata": {
        "id": "hZiGIFGoRVod"
      }
    },
    {
      "cell_type": "code",
      "source": [
        "use sakila;\n",
        "select film.title,payment.amount,\n",
        "sum(payment.amount) over (order by payment.payment_date) from film\n",
        "inner join inventory on film.film_id = inventory.film_id\n",
        "inner join rental on inventory.inventory_id = rental.inventory_id\n",
        "inner join payment on rental.rental_id = payment.rental_id;"
      ],
      "metadata": {
        "id": "utf9H8uSNzfL"
      },
      "execution_count": null,
      "outputs": []
    },
    {
      "cell_type": "markdown",
      "source": [
        "##Q 3. Determine the average rental duration for each film, considering films with similar lengths."
      ],
      "metadata": {
        "id": "iPiZYV8-RWQP"
      }
    },
    {
      "cell_type": "code",
      "source": [
        "use sakila;\n",
        "select film.title,film.length,avg(datediff(rental.return_date,rental.rental_date)) over (partition by film.length) from film\n",
        "inner join inventory on film.film_id = inventory.film_id\n",
        "inner join rental on inventory.invenory_id = rental.inventory_id;"
      ],
      "metadata": {
        "id": "rphMBg10Olft"
      },
      "execution_count": null,
      "outputs": []
    },
    {
      "cell_type": "markdown",
      "source": [
        "##Q 4. Identify the top 3 films in each category based on their rental counts"
      ],
      "metadata": {
        "id": "bBCnEcWdRWo9"
      }
    },
    {
      "cell_type": "code",
      "source": [
        "use sakila;\n",
        "select film.title,category.name,cout(rental.rental_id) over (partition by category.name) from film\n",
        "inner join film_category on film.film_id = film_category.film_id\n",
        "inner join category on film_category.category_id = category.category_id\n",
        "inner join inventory on film.film_id = inventory.film_id\n",
        "inner join rental on inventory.inventory_id = rental.inventory_id\n",
        "order by count(rental.rental_id) desc\n",
        "limit 3;"
      ],
      "metadata": {
        "id": "4hYhly7GPjfc"
      },
      "execution_count": null,
      "outputs": []
    },
    {
      "cell_type": "markdown",
      "source": [
        "##Q 5. Calculate the difference in rental counts between each customer's total rentals and the average rentals across all customers."
      ],
      "metadata": {
        "id": "HQfIBsUDRW_h"
      }
    },
    {
      "cell_type": "code",
      "source": [
        "use sakila;\n",
        "select customer.first_name,customer.last_name,count(rental.rental_id) over (partition by customer.customer_id) - avg(count(rental.rental_id)) over () as rental_difference from customer\n",
        "inner join rental on customer.customer_id = rental.customer_id\n",
        "group by customer.customer_id;"
      ],
      "metadata": {
        "id": "zCZgDnHpQt5u"
      },
      "execution_count": null,
      "outputs": []
    },
    {
      "cell_type": "markdown",
      "source": [
        "##Q 6. Find the monthly revenue trend for the entire rental store over time."
      ],
      "metadata": {
        "id": "XUFF01W-RXX1"
      }
    },
    {
      "cell_type": "code",
      "source": [
        "use sakila;\n",
        "select date_format(payment.payment_date,'%Y-%m') as month,sum(payment.amount) from payment\n",
        "group by month;"
      ],
      "metadata": {
        "id": "bTJ9qtDZRjoV"
      },
      "execution_count": null,
      "outputs": []
    },
    {
      "cell_type": "markdown",
      "source": [
        "##Q 7. Identify the customers whose total spending on rentals falls within the top 20% of all customers."
      ],
      "metadata": {
        "id": "9siw7bmPRXvf"
      }
    },
    {
      "cell_type": "code",
      "source": [
        "use sakila;\n",
        "select customer.first_name,customer.last_name,sum(payment.amount) over (partition by customer.customer_id) from customer\n",
        "inner join payment on customer.customer_id = payment.customer_id\n",
        "order by sum(payment.amount) desc\n",
        "limit (select count(*) * 0.2 from customer);"
      ],
      "metadata": {
        "id": "fAgd4gTjSEXG"
      },
      "execution_count": null,
      "outputs": []
    },
    {
      "cell_type": "markdown",
      "source": [
        "##Q 8. Calculate the running total of rentals per category, ordered by rental count."
      ],
      "metadata": {
        "id": "zxM_GQKfRYFn"
      }
    },
    {
      "cell_type": "code",
      "source": [
        "use sakila;\n",
        "select category.name,count(rental.rental_id) over (partition by category.name order by count(rental.rental_id)) from category\n",
        "inner join film_category on category.category_id = film_category.category_id\n",
        "inner join film on film_category.film_id = film.film_id\n",
        "inner join inventory on film.film_id = inventory.film_id\n",
        "inner join rental on inventory.inventory_id = rental.inventory_id;"
      ],
      "metadata": {
        "id": "7sYPUS6TSyoF"
      },
      "execution_count": null,
      "outputs": []
    },
    {
      "cell_type": "markdown",
      "source": [
        "##Q 9. Find the films that have been rented less than the average rental count for their respective categories."
      ],
      "metadata": {
        "id": "EELAKlbJRYbu"
      }
    },
    {
      "cell_type": "code",
      "source": [
        "use sakila;\n",
        "select film.title,count(rental.rental_id) over (partition by category.name) from film\n",
        "inner join film_category on film.film_id = film_category.film_id\n",
        "inner join category on film_category.category_id = category.category_id\n",
        "inner join inventory on film.film_id = inventory.film_id\n",
        "inner join rental on inventory.inventory_id = rental.inventory_id\n",
        "where count(rental.rental_id) < select avg(count(rental.rental_id)) over (partition by category.name) from film\n",
        "inner join film_category on film.film_id = film_category.film_id\n",
        "inner join category on film_category.category_id = category.category_id\n",
        "inner join inventory on film.film_id = inventory.film_id\n",
        "inner join rental on inventory.inventory_id = rental.inventory_id;"
      ],
      "metadata": {
        "id": "lt5h5AjXUiT2"
      },
      "execution_count": null,
      "outputs": []
    },
    {
      "cell_type": "markdown",
      "source": [
        "##Q 10. Identify the top 5 months with the highest revenue and display the revenue generated in each month."
      ],
      "metadata": {
        "id": "UDjco0RRRYyd"
      }
    },
    {
      "cell_type": "code",
      "source": [
        "use sakila;\n",
        "select date_format(payment.payment_date,'%Y-%m') as month,sum(payment.amount) from payment\n",
        "group by month\n",
        "order by sum(payment.amount) desc\n",
        "limit 5;"
      ],
      "metadata": {
        "id": "zr23_GUUW2IX"
      },
      "execution_count": null,
      "outputs": []
    },
    {
      "cell_type": "markdown",
      "source": [
        "#Normalisation & CTE\n",
        "##Q 1. First Normal Form (1NF) Identify a table in the Sakila database that violates 1NF. Explain how you would normalize it to achieve 1NF."
      ],
      "metadata": {
        "id": "5G6yLJenRZLl"
      }
    },
    {
      "cell_type": "markdown",
      "source": [
        "one candidate table that violates First Normal Form (1NF) is:\n",
        "* actor_award table"
      ],
      "metadata": {
        "id": "_CcGCacBjeUu"
      }
    },
    {
      "cell_type": "code",
      "source": [
        "CREATE TABLE actor_award (\n",
        "  actor_award_id SMALLINT UNSIGNED NOT NULL AUTO_INCREMENT,\n",
        "  actor_id SMALLINT,\n",
        "  first_name VARCHAR(45) NOT NULL,\n",
        "  last_name VARCHAR(45) NOT NULL,\n",
        "  awards VARCHAR(45) NOT NULL,\n",
        "  last_update TIMESTAMP NOT NULL DEFAULT CURRENT_TIMESTAMP ON UPDATE CURRENT_TIMESTAMP,\n",
        "  PRIMARY KEY  (actor_award_id),\n",
        "  KEY idx_actor_last_name (last_name)\n",
        ");\n"
      ],
      "metadata": {
        "id": "0cr0M9BEXWh3"
      },
      "execution_count": null,
      "outputs": []
    },
    {
      "cell_type": "markdown",
      "source": [
        "1NF requires:\n",
        "* indivisible values in each cell.\n",
        "* No repeating groups or arrays.\n",
        "\n",
        "The problem lies in the awards column — if this column stores multiple awards as a comma-separated list (e.g., \"Best Actor, Lifetime Achievement\"), it violates atomicity, breaking 1NF.\n",
        "\n",
        "**Normalize it to 1NF**\n",
        "\n",
        "we should break this into two tables:\n",
        "1. actor_award"
      ],
      "metadata": {
        "id": "ODl2j258jsv6"
      }
    },
    {
      "cell_type": "code",
      "source": [
        "CREATE TABLE actor_award (\n",
        "  actor_award_id SMALLINT UNSIGNED NOT NULL AUTO_INCREMENT,\n",
        "  actor_id SMALLINT NOT NULL,\n",
        "  first_name VARCHAR(45) NOT NULL,\n",
        "  last_name VARCHAR(45) NOT NULL,\n",
        "  last_update TIMESTAMP NOT NULL DEFAULT CURRENT_TIMESTAMP ON UPDATE CURRENT_TIMESTAMP,\n",
        "  PRIMARY KEY (actor_award_id)\n",
        ");"
      ],
      "metadata": {
        "id": "-AvsEno4kGij"
      },
      "execution_count": null,
      "outputs": []
    },
    {
      "cell_type": "markdown",
      "source": [
        "2. New Table: actor_award_list"
      ],
      "metadata": {
        "id": "hAqnh3HCkIca"
      }
    },
    {
      "cell_type": "code",
      "source": [
        "CREATE TABLE actor_award_list (\n",
        "  id INT AUTO_INCREMENT PRIMARY KEY,\n",
        "  actor_award_id SMALLINT UNSIGNED NOT NULL,\n",
        "  award_name VARCHAR(100) NOT NULL,\n",
        "  FOREIGN KEY (actor_award_id) REFERENCES actor_award(actor_award_id)\n",
        ");"
      ],
      "metadata": {
        "id": "zJFwHEMakQGi"
      },
      "execution_count": null,
      "outputs": []
    },
    {
      "cell_type": "markdown",
      "source": [
        "**Benefits After Normalization**\n",
        "* Every value is atomic.\n",
        "* Easier to query, filter, and count awards.\n",
        "* Avoids data duplication and improves data integrity"
      ],
      "metadata": {
        "id": "xZ13avaykVNj"
      }
    },
    {
      "cell_type": "markdown",
      "source": [
        "##Q 2. Second Normal Form (2NF):               \n",
        "a. Choose a table in Sakila and describe how you would determine whether it is in 2NF. If it violates 2NF, explain the steps to normalize it."
      ],
      "metadata": {
        "id": "vnFTwVCt0NIk"
      }
    },
    {
      "cell_type": "markdown",
      "source": [
        "Let's choose the film_actor table from the Sakila database to analyze for Second Normal Form (2NF).\n",
        "\n",
        "**Step 1: Understand the Table**\n",
        "Here is the likely structure of the film_actor table"
      ],
      "metadata": {
        "id": "LA_mXqVvknGi"
      }
    },
    {
      "cell_type": "code",
      "source": [
        "CREATE TABLE film_actor (\n",
        "  actor_id SMALLINT UNSIGNED NOT NULL,\n",
        "  film_id SMALLINT UNSIGNED NOT NULL,\n",
        "  last_update TIMESTAMP NOT NULL DEFAULT CURRENT_TIMESTAMP ON UPDATE CURRENT_TIMESTAMP,\n",
        "  PRIMARY KEY (actor_id, film_id),\n",
        "  FOREIGN KEY (actor_id) REFERENCES actor(actor_id),\n",
        "  FOREIGN KEY (film_id) REFERENCES film(film_id)\n",
        ");"
      ],
      "metadata": {
        "id": "0vHPtnYPXvJB"
      },
      "execution_count": null,
      "outputs": []
    },
    {
      "cell_type": "markdown",
      "source": [
        "**Step 2: Check for 2NF**\n",
        "\n",
        "Second Normal Form (2NF) rules:\n",
        "* Must be in 1NF.\n",
        "* No partial dependencies of non-prime attributes on part of a composite primary key.\n",
        "\n",
        "Composite Primary Key:\n",
        "* (actor_id, film_id) is the composite primary key.\n",
        "\n",
        "Non-key Attribute:\n",
        "* last_update\n",
        "\n",
        "'last_update' depends on the full composite key — it represents the timestamp of the actor-film relationship.\n",
        "So, this table is already in 2NF.\n",
        "\n",
        "**if it Violated 2NF**\n",
        "\n",
        "a modified version of film_actor that violates 2NF:"
      ],
      "metadata": {
        "id": "GsR_6uELkmB6"
      }
    },
    {
      "cell_type": "code",
      "source": [
        "CREATE TABLE film_actor (\n",
        "  actor_id SMALLINT UNSIGNED NOT NULL,\n",
        "  film_id SMALLINT UNSIGNED NOT NULL,\n",
        "  actor_name VARCHAR(100),\n",
        "  last_update TIMESTAMP NOT NULL DEFAULT CURRENT_TIMESTAMP,\n",
        "  PRIMARY KEY (actor_id, film_id)\n",
        ");"
      ],
      "metadata": {
        "id": "ey6PRJUVlULS"
      },
      "execution_count": null,
      "outputs": []
    },
    {
      "cell_type": "markdown",
      "source": [
        "Here, actor_name depends only on actor_id, not the full composite key → partial dependency = violates 2NF.\n",
        "\n",
        "**How to Normalize to 2NF**\n",
        "\n",
        "Split into two tables:\n",
        "1. film_actor"
      ],
      "metadata": {
        "id": "LqYjczgalYM6"
      }
    },
    {
      "cell_type": "code",
      "source": [
        "CREATE TABLE film_actor (\n",
        "  actor_id SMALLINT UNSIGNED NOT NULL,\n",
        "  film_id SMALLINT UNSIGNED NOT NULL,\n",
        "  last_update TIMESTAMP NOT NULL DEFAULT CURRENT_TIMESTAMP,\n",
        "  PRIMARY KEY (actor_id, film_id),\n",
        "  FOREIGN KEY (actor_id) REFERENCES actor(actor_id),\n",
        "  FOREIGN KEY (film_id) REFERENCES film(film_id)\n",
        ");"
      ],
      "metadata": {
        "id": "EZUZUZzSlfz6"
      },
      "execution_count": null,
      "outputs": []
    },
    {
      "cell_type": "markdown",
      "source": [
        "2. actor"
      ],
      "metadata": {
        "id": "AuGVeVSRlhK5"
      }
    },
    {
      "cell_type": "code",
      "source": [
        "CREATE TABLE actor (\n",
        "  actor_id SMALLINT UNSIGNED PRIMARY KEY,\n",
        "  actor_name VARCHAR(100)\n",
        ");"
      ],
      "metadata": {
        "id": "G1VBxoB5lsKp"
      },
      "execution_count": null,
      "outputs": []
    },
    {
      "cell_type": "markdown",
      "source": [
        "* Each non-key attribute now depends only on the whole primary key.\n",
        "* The structure is now in 2NF."
      ],
      "metadata": {
        "id": "DA4XV8oqlvoa"
      }
    },
    {
      "cell_type": "markdown",
      "source": [
        "##Q 3. Third Normal Form (3NF):\n",
        "a. Identify a table in Sakila that violates 3NF. Describe the transitive dependencies present and outline the steps to normalize the table to 3NF."
      ],
      "metadata": {
        "id": "PR0OXMTP0OU-"
      }
    },
    {
      "cell_type": "markdown",
      "source": [
        "A good candidate for analyzing Third Normal Form (3NF) violations in the Sakila database is the address table.\n",
        "\n",
        "**Step 1: Structure of the address Table**"
      ],
      "metadata": {
        "id": "j1_C4RU-l-kD"
      }
    },
    {
      "cell_type": "code",
      "source": [
        "CREATE TABLE address (\n",
        "  address_id SMALLINT UNSIGNED NOT NULL AUTO_INCREMENT,\n",
        "  address VARCHAR(50) NOT NULL,\n",
        "  address2 VARCHAR(50) DEFAULT NULL,\n",
        "  district VARCHAR(20) NOT NULL,\n",
        "  city_id SMALLINT UNSIGNED NOT NULL,\n",
        "  postal_code VARCHAR(10) DEFAULT NULL,\n",
        "  phone VARCHAR(20) NOT NULL,\n",
        "  last_update TIMESTAMP NOT NULL DEFAULT CURRENT_TIMESTAMP ON UPDATE CURRENT_TIMESTAMP,\n",
        "  PRIMARY KEY (address_id),\n",
        "  FOREIGN KEY (city_id) REFERENCES city(city_id)\n",
        ");"
      ],
      "metadata": {
        "id": "iYB_sCDYX6No"
      },
      "execution_count": null,
      "outputs": []
    },
    {
      "cell_type": "markdown",
      "source": [
        "**Step 2: This Table Violate 3NF**\n",
        "\n",
        "3NF Rule Recap:\n",
        "* Must be in 2NF.\n",
        "* No transitive dependencies: Non-prime attributes should not depend on other non-prime attributes.\n",
        "\n",
        "* In this table:\n",
        "  * city_id → city_name, country_id (via the city table)\n",
        "  * country_id → country_name (via the country table)\n",
        "\n",
        "That means:\n",
        "\n",
        "* address table indirectly contains redundant transitive data if it includes data like city_name or country_name.\n",
        "\n",
        "If we embed city_name and country_name directly in the address table, then we have a transitive dependency:"
      ],
      "metadata": {
        "id": "0o8FJqFAmKjZ"
      }
    },
    {
      "cell_type": "code",
      "source": [
        "address → city_id → country_id → country_name"
      ],
      "metadata": {
        "id": "FnrAUKgAmZzR"
      },
      "execution_count": null,
      "outputs": []
    },
    {
      "cell_type": "markdown",
      "source": [
        "This would violate 3NF.\n",
        "\n",
        "**Step 3: How to Normalize to 3NF**\n",
        "\n",
        "To achieve 3NF:\n",
        "1. Keep city_id in address (as a foreign key).\n",
        "2. Move city_name and country_id to a separate city table.\n",
        "3. Move country_name to a separate country table.\n",
        "\n",
        "These already exist in the Sakila schema:\n"
      ],
      "metadata": {
        "id": "fdNJ5hpRmc7B"
      }
    },
    {
      "cell_type": "code",
      "source": [
        "CREATE TABLE city (\n",
        "  city_id SMALLINT UNSIGNED NOT NULL AUTO_INCREMENT,\n",
        "  city VARCHAR(50) NOT NULL,\n",
        "  country_id SMALLINT UNSIGNED NOT NULL,\n",
        "  last_update TIMESTAMP NOT NULL DEFAULT CURRENT_TIMESTAMP,\n",
        "  PRIMARY KEY (city_id),\n",
        "  FOREIGN KEY (country_id) REFERENCES country(country_id)\n",
        ");\n",
        "\n",
        "CREATE TABLE country (\n",
        "  country_id SMALLINT UNSIGNED NOT NULL AUTO_INCREMENT,\n",
        "  country VARCHAR(50) NOT NULL,\n",
        "  last_update TIMESTAMP NOT NULL DEFAULT CURRENT_TIMESTAMP,\n",
        "  PRIMARY KEY (country_id)\n",
        ");"
      ],
      "metadata": {
        "id": "qcxLmETamnh5"
      },
      "execution_count": null,
      "outputs": []
    },
    {
      "cell_type": "markdown",
      "source": [
        "**Final 3NF Structure**\n",
        "* address → refers to city_id\n",
        "* city → refers to country_id\n",
        "* country → contains country name\n",
        "\n",
        "Each non-key attribute in any table depends only on the primary key of its table, and not on another non-key → this is 3NF-compliant.\n",
        "\n",
        "**Summary**\n",
        "* Table that can violate 3NF: address (if city or country info is added directly)\n",
        "* Transitive Dependency: address → city_id → country_id → country_name\n",
        "* Normalization Fix: Keep city and country details in separate tables and use foreign keys."
      ],
      "metadata": {
        "id": "JI-jN1cYmt8L"
      }
    },
    {
      "cell_type": "markdown",
      "source": [
        "##Q 4. Normalization Process:               \n",
        "\n",
        "a. Take a specific table in Sakila and guide through the process of normalizing it from the initial unnormalized form up to at least 2NF."
      ],
      "metadata": {
        "id": "X-o89x_s0O5L"
      }
    },
    {
      "cell_type": "markdown",
      "source": [
        "Let’s take the customer table from the Sakila database and walk through the normalization process — from an unnormalized form to at least Second Normal Form.\n",
        "\n",
        "**Initial Unnormalized Form**\n",
        "\n",
        "Let's assume the customer table initially looks like this"
      ],
      "metadata": {
        "id": "uWGWLmgnnAG5"
      }
    },
    {
      "cell_type": "code",
      "source": [
        "CREATE TABLE customer_raw (\n",
        "  customer_id INT,\n",
        "  full_name VARCHAR(100),\n",
        "  phone_numbers VARCHAR(100), -- e.g., \"1234567890,0987654321\"\n",
        "  address VARCHAR(100),\n",
        "  city VARCHAR(50),\n",
        "  country VARCHAR(50),\n",
        "  rental_history TEXT, -- e.g., \"Film1:2022-01-01, Film2:2022-01-05\"\n",
        "  PRIMARY KEY (customer_id)\n",
        ");"
      ],
      "metadata": {
        "id": "KEqnMgzNm_Lh"
      },
      "execution_count": null,
      "outputs": []
    },
    {
      "cell_type": "markdown",
      "source": [
        "**Problems in UNF**\n",
        "* phone_numbers and rental_history are multi-valued (comma-separated).\n",
        "* full_name is not atomic — it contains first and last names together.\n",
        "* city and country are stored redundantly.\n",
        "\n",
        "**Step 1: Convert to First Normal Form**\n",
        "\n",
        "Fix:\n",
        "* Split multi-valued fields into separate rows/tables.\n",
        "* Ensure atomic attributes (split full name).\n",
        "\n",
        "**Normalized Tables (1NF)**\n",
        "* customer"
      ],
      "metadata": {
        "id": "h0nZChAmnRHB"
      }
    },
    {
      "cell_type": "code",
      "source": [
        "CREATE TABLE customer (\n",
        "  customer_id INT PRIMARY KEY,\n",
        "  first_name VARCHAR(50),\n",
        "  last_name VARCHAR(50),\n",
        "  address VARCHAR(100)\n",
        ");"
      ],
      "metadata": {
        "id": "3IZ2ojF9aFdU"
      },
      "execution_count": null,
      "outputs": []
    },
    {
      "cell_type": "markdown",
      "source": [
        "* customer_phone"
      ],
      "metadata": {
        "id": "kPGZUYgxnkRp"
      }
    },
    {
      "cell_type": "code",
      "source": [
        "CREATE TABLE customer_phone (\n",
        "  customer_id INT,\n",
        "  phone_number VARCHAR(20),\n",
        "  PRIMARY KEY (customer_id, phone_number),\n",
        "  FOREIGN KEY (customer_id) REFERENCES customer(customer_id)\n",
        ");"
      ],
      "metadata": {
        "id": "tPtA2cjGnlnx"
      },
      "execution_count": null,
      "outputs": []
    },
    {
      "cell_type": "markdown",
      "source": [
        "* customer_rental"
      ],
      "metadata": {
        "id": "lLqC72ZOnrjh"
      }
    },
    {
      "cell_type": "code",
      "source": [
        "CREATE TABLE customer_rental (\n",
        "  customer_id INT,\n",
        "  film_title VARCHAR(100),\n",
        "  rental_date DATE,\n",
        "  PRIMARY KEY (customer_id, film_title),\n",
        "  FOREIGN KEY (customer_id) REFERENCES customer(customer_id)\n",
        ");"
      ],
      "metadata": {
        "id": "H_LZ-tTNnmzh"
      },
      "execution_count": null,
      "outputs": []
    },
    {
      "cell_type": "markdown",
      "source": [
        "**Step 2: Convert to Second Normal Form**\n",
        "\n",
        "2NF requires:\n",
        "* Already in 1NF\n",
        "* No partial dependency on a composite primary key\n",
        "\n",
        "Let's imagine this table (1NF version of customer_rental):"
      ],
      "metadata": {
        "id": "fxMOwpcgnxtZ"
      }
    },
    {
      "cell_type": "code",
      "source": [
        "CREATE TABLE customer_rental (\n",
        "  customer_id INT,\n",
        "  film_title VARCHAR(100),\n",
        "  rental_date DATE,\n",
        "  film_category VARCHAR(50), --  Issue\n",
        "  PRIMARY KEY (customer_id, film_title)\n",
        ");"
      ],
      "metadata": {
        "id": "451TyLv2n76B"
      },
      "execution_count": null,
      "outputs": []
    },
    {
      "cell_type": "markdown",
      "source": [
        "**Problem**\n",
        "* film_category depends only on film_title, not on full composite key → partial dependency\n",
        "\n",
        "**Fix (Normalize to 2NF)**\n",
        "* Step 1: Create film table:"
      ],
      "metadata": {
        "id": "CKHKEXv-oC8x"
      }
    },
    {
      "cell_type": "code",
      "source": [
        "CREATE TABLE film (\n",
        "  film_title VARCHAR(100) PRIMARY KEY,\n",
        "  film_category VARCHAR(50)\n",
        ");"
      ],
      "metadata": {
        "id": "gVSGCQhvoQ9h"
      },
      "execution_count": null,
      "outputs": []
    },
    {
      "cell_type": "markdown",
      "source": [
        "* Step 2: Update customer_rental:"
      ],
      "metadata": {
        "id": "v19vdwVKoT15"
      }
    },
    {
      "cell_type": "code",
      "source": [
        "CREATE TABLE customer_rental (\n",
        "  customer_id INT,\n",
        "  film_title VARCHAR(100),\n",
        "  rental_date DATE,\n",
        "  PRIMARY KEY (customer_id, film_title),\n",
        "  FOREIGN KEY (customer_id) REFERENCES customer(customer_id),\n",
        "  FOREIGN KEY (film_title) REFERENCES film(film_title)\n",
        ");"
      ],
      "metadata": {
        "id": "WrY8KES4oXR3"
      },
      "execution_count": null,
      "outputs": []
    },
    {
      "cell_type": "markdown",
      "source": [
        "Now\n",
        "* customer_rental has no partial dependency.\n",
        "* Each non-key attribute depends on the whole composite key.\n",
        "\n",
        "**Summary of Normalization**\n",
        "\n",
        "|Stage\t|Description|\n",
        "|-||\n",
        "|UNF\t|Multi-valued & non-atomic fields (phone_numbers, rental_history, full_name)|\n",
        "|1NF\t|All fields atomic. Separate tables for phones and rentals|\n",
        "|2NF\t|Removed partial dependencies (e.g., film_category) by splitting film into a separate table|\n"
      ],
      "metadata": {
        "id": "ThK3IFXLoayw"
      }
    },
    {
      "cell_type": "markdown",
      "source": [
        "##Q 5. CTE Basics:                \n",
        "a. Write a query using a CTE to retrieve the distinct list of actor names and the number of films they have acted in from the actor and film_actor tables."
      ],
      "metadata": {
        "id": "oidDQpoF0PYU"
      }
    },
    {
      "cell_type": "markdown",
      "source": [
        "SQL query using a Common Table Expression (CTE) to retrieve the distinct list of actor names along with the number of films they have acted in, using the actor and film_actor tables from the Sakila database:"
      ],
      "metadata": {
        "id": "5N9JIAnWo4yZ"
      }
    },
    {
      "cell_type": "code",
      "source": [
        "WITH actor_film_count AS (\n",
        "    SELECT\n",
        "        a.actor_id,\n",
        "        CONCAT(a.first_name, ' ', a.last_name) AS actor_name,\n",
        "        COUNT(fa.film_id) AS film_count\n",
        "    FROM actor a\n",
        "    JOIN film_actor fa ON a.actor_id = fa.actor_id\n",
        "    GROUP BY a.actor_id, a.first_name, a.last_name\n",
        ")\n",
        "SELECT * FROM actor_film_count\n",
        "ORDER BY film_count DESC;"
      ],
      "metadata": {
        "id": "fLEVgeXgo5px"
      },
      "execution_count": null,
      "outputs": []
    },
    {
      "cell_type": "markdown",
      "source": [
        "**What This Query Does**\n",
        "* CTE actor_film_count:\n",
        "  * Joins actor and film_actor tables.\n",
        "  * Groups by actor_id to count the number of films each actor has appeared in.\n",
        "  * Concatenates first_name and last_name for display.\n",
        "* Final SELECT:\n",
        "  * Retrieves the actor names and their film counts.\n",
        "  * Orders the result by the number of films in descending order."
      ],
      "metadata": {
        "id": "mJaWqiMGsC_w"
      }
    },
    {
      "cell_type": "markdown",
      "source": [
        "##Q 6. CTE with Joins:                \n",
        "a. Create a CTE that combines information from the film and language tables to display the film title, language name, and rental rate."
      ],
      "metadata": {
        "id": "jq_4piXS0Pvf"
      }
    },
    {
      "cell_type": "markdown",
      "source": [
        "SQL query using a Common Table Expression (CTE) that joins the film and language tables to display the film title, language name, and rental rate:"
      ],
      "metadata": {
        "id": "QeMBYZm5pG2Z"
      }
    },
    {
      "cell_type": "code",
      "source": [
        "WITH film_language_info AS (\n",
        "    SELECT\n",
        "        f.film_id,\n",
        "        f.title AS film_title,\n",
        "        l.name AS language_name,\n",
        "        f.rental_rate\n",
        "    FROM film f\n",
        "    JOIN language l ON f.language_id = l.language_id\n",
        ")\n",
        "SELECT film_title, language_name, rental_rate\n",
        "FROM film_language_info\n",
        "ORDER BY film_title;"
      ],
      "metadata": {
        "id": "JoFYLAAepHvh"
      },
      "execution_count": null,
      "outputs": []
    },
    {
      "cell_type": "markdown",
      "source": [
        "**What This Query Does**\n",
        "* CTE film_language_info:\n",
        "  * Joins film and language on language_id.\n",
        "  * Selects the film_id, title, language name, and rental rate.\n",
        "\n",
        "* Final SELECT:\n",
        "  * Displays the film_title, language_name, and rental_rate from the CTE.\n",
        "  * Orders results alphabetically by film title.\n",
        "\n"
      ],
      "metadata": {
        "id": "so36UHq5r0sw"
      }
    },
    {
      "cell_type": "markdown",
      "source": [
        "##Q 7. CTE for Aggregation:               \n",
        "a. Write a query using a CTE to find the total revenue generated by each customer (sum of payments) from the customer and payment tables."
      ],
      "metadata": {
        "id": "GsaB1kXX0QLe"
      }
    },
    {
      "cell_type": "code",
      "source": [
        "WITH customer_revenue AS (\n",
        "    SELECT\n",
        "        c.customer_id,\n",
        "        CONCAT(c.first_name, ' ', c.last_name) AS customer_name,\n",
        "        SUM(p.amount) AS total_revenue\n",
        "    FROM customer c\n",
        "    JOIN payment p ON c.customer_id = p.customer_id\n",
        "    GROUP BY c.customer_id, c.first_name, c.last_name\n",
        ")\n",
        "SELECT *\n",
        "FROM customer_revenue\n",
        "ORDER BY total_revenue DESC;"
      ],
      "metadata": {
        "id": "q0EZoJNqpQaA"
      },
      "execution_count": null,
      "outputs": []
    },
    {
      "cell_type": "markdown",
      "source": [
        "**Explanation**\n",
        "* CTE customer_revenue:\n",
        "  * Joins customer and payment on customer_id.\n",
        "  * Calculates the total sum of amount paid by each customer.\n",
        "  * Concatenates first_name and last_name to create a full name.\n",
        "* Final SELECT:\n",
        "  * Retrieves all records from the CTE.\n",
        "  * Orders by total_revenue in descending order to show the highest-paying customers first."
      ],
      "metadata": {
        "id": "l1WnUXZerlgg"
      }
    },
    {
      "cell_type": "markdown",
      "source": [
        "##Q 8. CTE with Window Functions:\n",
        "a. Utilize a CTE with a window function to rank films based on their rental duration from the film table."
      ],
      "metadata": {
        "id": "GFfmpYmd0Qkd"
      }
    },
    {
      "cell_type": "code",
      "source": [
        "WITH film_rental_ranks AS (\n",
        "    SELECT\n",
        "        film_id,\n",
        "        title,\n",
        "        rental_duration,\n",
        "        RANK() OVER (ORDER BY rental_duration DESC) AS rental_rank\n",
        "    FROM film\n",
        ")\n",
        "SELECT *\n",
        "FROM film_rental_ranks\n",
        "ORDER BY rental_rank, title;"
      ],
      "metadata": {
        "id": "hl85WjV0pYvo"
      },
      "execution_count": null,
      "outputs": []
    },
    {
      "cell_type": "markdown",
      "source": [
        "**Explanation**\n",
        "* CTE film_rental_ranks:\n",
        "  * Selects each film's film_id, title, and rental_duration.\n",
        "  * Uses RANK() as a window function to assign a rank to each film based on rental_duration (highest duration ranked 1).\n",
        "* Final SELECT:\n",
        "  * Retrieves the data including the calculated rank.\n",
        "  * Orders the results by rental_rank, then alphabetically by title."
      ],
      "metadata": {
        "id": "nZ2bKArErWQA"
      }
    },
    {
      "cell_type": "markdown",
      "source": [
        "##Q 9. CTE and Filtering:               \n",
        "a. Create a CTE to list customers who have made more than two rentals, and then join this CTE with the customer table to retrieve additional customer details."
      ],
      "metadata": {
        "id": "g3MxWamv0Q8V"
      }
    },
    {
      "cell_type": "code",
      "source": [
        "WITH frequent_customers AS (\n",
        "    SELECT\n",
        "        customer_id,\n",
        "        COUNT(rental_id) AS rental_count\n",
        "    FROM rental\n",
        "    GROUP BY customer_id\n",
        "    HAVING COUNT(rental_id) > 2\n",
        ")\n",
        "SELECT\n",
        "    c.customer_id,\n",
        "    CONCAT(c.first_name, ' ', c.last_name) AS customer_name,\n",
        "    c.email,\n",
        "    c.address_id,\n",
        "    fc.rental_count\n",
        "FROM frequent_customers fc\n",
        "JOIN customer c ON fc.customer_id = c.customer_id\n",
        "ORDER BY fc.rental_count DESC;"
      ],
      "metadata": {
        "id": "EJsp7nK5pdqw"
      },
      "execution_count": null,
      "outputs": []
    },
    {
      "cell_type": "markdown",
      "source": [
        "**Explanation**\n",
        "* CTE frequent_customers:\n",
        "  * Groups the rental table by customer_id.\n",
        "  * Filters for customers with more than 2 rentals.\n",
        "* Main Query:\n",
        "  * Joins the CTE with the customer table to get full name, email, and address ID.\n",
        "  * Orders by number of rentals in descending order to show the most active customers first."
      ],
      "metadata": {
        "id": "zdMVdAA6rGYA"
      }
    },
    {
      "cell_type": "markdown",
      "source": [
        "##Q 10. CTE for Date Calculations:\n",
        "a. Write a query using a CTE to find the total number of rentals made each month, considering the rental_date from the rental table"
      ],
      "metadata": {
        "id": "bXdJ2LVc0RU7"
      }
    },
    {
      "cell_type": "code",
      "source": [
        "WITH monthly_rentals AS (\n",
        "    SELECT\n",
        "        DATE_FORMAT(rental_date, '%Y-%m') AS rental_month,\n",
        "        COUNT(*) AS total_rentals\n",
        "    FROM rental\n",
        "    GROUP BY DATE_FORMAT(rental_date, '%Y-%m')\n",
        ")\n",
        "SELECT *\n",
        "FROM monthly_rentals\n",
        "ORDER BY rental_month;"
      ],
      "metadata": {
        "id": "AhztVUS0pk2Z"
      },
      "execution_count": null,
      "outputs": []
    },
    {
      "cell_type": "markdown",
      "source": [
        "**Explanation**\n",
        "* CTE monthly_rentals:\n",
        "  * Uses DATE_FORMAT(rental_date, '%Y-%m') to extract the year and month.\n",
        "  * Groups by month and counts the number of rentals.\n",
        "* Final SELECT:\n",
        "  * Returns each month with its total rental count.\n",
        "  * Ordered chronologically by month."
      ],
      "metadata": {
        "id": "chndxJiWrCeA"
      }
    },
    {
      "cell_type": "markdown",
      "source": [
        "##Q 11. CTE and Self-Join:\n",
        "a. Create a CTE to generate a report showing pairs of actors who have appeared in the same film together, using the film_actor table."
      ],
      "metadata": {
        "id": "dbab7i8q0RtQ"
      }
    },
    {
      "cell_type": "code",
      "source": [
        "WITH actor_pairs AS (\n",
        "    SELECT\n",
        "        fa1.film_id,\n",
        "        fa1.actor_id AS actor1_id,\n",
        "        fa2.actor_id AS actor2_id\n",
        "    FROM film_actor fa1\n",
        "    JOIN film_actor fa2\n",
        "        ON fa1.film_id = fa2.film_id\n",
        "       AND fa1.actor_id < fa2.actor_id -- avoid self-pair and duplicate pairs\n",
        ")\n",
        "SELECT\n",
        "    ap.film_id,\n",
        "    a1.first_name || ' ' || a1.last_name AS actor1_name,\n",
        "    a2.first_name || ' ' || a2.last_name AS actor2_name\n",
        "FROM actor_pairs ap\n",
        "JOIN actor a1 ON ap.actor1_id = a1.actor_id\n",
        "JOIN actor a2 ON ap.actor2_id = a2.actor_id\n",
        "ORDER BY ap.film_id, actor1_name, actor2_name;"
      ],
      "metadata": {
        "id": "uGojUIPxpqm4"
      },
      "execution_count": null,
      "outputs": []
    },
    {
      "cell_type": "markdown",
      "source": [
        "**Explanation**\n",
        "* CTE actor_pairs:\n",
        "  * Joins film_actor with itself (fa1 and fa2) on the same film_id.\n",
        "  * Uses fa1.actor_id < fa2.actor_id to avoid:\n",
        "    * Repeating the same actor (e.g., A with A).\n",
        "    * Duplicate pairs (e.g., A-B and B-A).\n",
        "* Main Query:\n",
        "  * Joins the CTE with the actor table twice to get actor names.\n",
        "  * Outputs film_id along with each unique actor pair.\n",
        "\n",
        "**Example Output:**\n",
        "\n",
        "|film_id\t|actor1_name\t|actor2_name|\n",
        "|-|||\n",
        "|10\t|Tom Hanks\t|Meg Ryan|\n",
        "|10\t|Tom Hanks\t|Tim Allen|\n",
        "|10\t|Meg Ryan\t|Tim Allen|"
      ],
      "metadata": {
        "id": "KuWNyUwiqO2w"
      }
    },
    {
      "cell_type": "markdown",
      "source": [
        "##Q 12. CTE for Recursive Search:\n",
        "a. Implement a recursive CTE to find all employees in the staff table who report to a specific manager, considering the reports_to column"
      ],
      "metadata": {
        "id": "pTav1piQ0SFw"
      }
    },
    {
      "cell_type": "code",
      "source": [
        "WITH RECURSIVE reporting_hierarchy AS (\n",
        "    -- Anchor member: start with the given manager\n",
        "    SELECT\n",
        "        staff_id,\n",
        "        first_name,\n",
        "        last_name,\n",
        "        reports_to\n",
        "    FROM staff\n",
        "    WHERE reports_to = 1  -- change this value to the desired manager_id\n",
        "\n",
        "    UNION ALL\n",
        "\n",
        "    -- Recursive member: find employees who report to the employees already found\n",
        "    SELECT\n",
        "        s.staff_id,\n",
        "        s.first_name,\n",
        "        s.last_name,\n",
        "        s.reports_to\n",
        "    FROM staff s\n",
        "    INNER JOIN reporting_hierarchy rh ON s.reports_to = rh.staff_id\n",
        ")\n",
        "\n",
        "SELECT *\n",
        "FROM reporting_hierarchy\n",
        "ORDER BY reports_to, staff_id;"
      ],
      "metadata": {
        "id": "DDiJTEiyYQDX"
      },
      "execution_count": null,
      "outputs": []
    },
    {
      "cell_type": "markdown",
      "source": [
        "**Explanation**\n",
        "* Anchor member: Gets all staff who report directly to the given manager (e.g., staff_id = 1).\n",
        "* Recursive member: Finds staff who report to those in the previous level — climbing down the hierarchy.\n",
        "* The final SELECT lists all direct and indirect reports in a nice hierarchy."
      ],
      "metadata": {
        "id": "18rG11O3p3LI"
      }
    }
  ]
}